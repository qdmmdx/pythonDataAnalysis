{
 "cells": [
  {
   "metadata": {
    "collapsed": true
   },
   "cell_type": "markdown",
   "source": [
    "# 一、ndarray\n",
    "## 1、ndarray特性\n",
    "### 多维性"
   ],
   "id": "27fcff87389d1ffe"
  },
  {
   "metadata": {
    "ExecuteTime": {
     "end_time": "2025-08-17T08:39:38.882987Z",
     "start_time": "2025-08-17T08:39:38.762947Z"
    }
   },
   "cell_type": "code",
   "source": [
    "import numpy as np\n",
    "from anaconda_project.prepare import prepare_execute_without_interaction"
   ],
   "id": "9afa2489b5ed3157",
   "outputs": [],
   "execution_count": 1
  },
  {
   "metadata": {
    "ExecuteTime": {
     "end_time": "2025-08-17T08:44:20.701381Z",
     "start_time": "2025-08-17T08:44:20.697826Z"
    }
   },
   "cell_type": "code",
   "source": [
    "arr = np.array(5) # 创建0维ndarray\n",
    "print(arr)\n",
    "print('arr的维度:',arr.ndim) # 打印纬度"
   ],
   "id": "fbf2e4527c63e1c3",
   "outputs": [
    {
     "name": "stdout",
     "output_type": "stream",
     "text": [
      "5\n",
      "arr的维度: 0\n"
     ]
    }
   ],
   "execution_count": 9
  },
  {
   "metadata": {
    "ExecuteTime": {
     "end_time": "2025-08-17T08:44:21.336539Z",
     "start_time": "2025-08-17T08:44:21.332866Z"
    }
   },
   "cell_type": "code",
   "source": [
    "arr = np.array([1,2,3]) # 创建1维ndarray\n",
    "print(arr)\n",
    "print('arr的维度:',arr.ndim) # 打印纬度"
   ],
   "id": "c434c2a53cf51e41",
   "outputs": [
    {
     "name": "stdout",
     "output_type": "stream",
     "text": [
      "[1 2 3]\n",
      "arr的维度: 1\n"
     ]
    }
   ],
   "execution_count": 10
  },
  {
   "metadata": {
    "ExecuteTime": {
     "end_time": "2025-08-17T08:45:00.396951Z",
     "start_time": "2025-08-17T08:45:00.394338Z"
    }
   },
   "cell_type": "code",
   "source": [
    "arr = np.array([\n",
    "    [1,2,3],\n",
    "    [4,5,6]\n",
    "]) # 创建2维ndarray\n",
    "print(arr)\n",
    "print('arr的维度:',arr.ndim) # 打印纬度"
   ],
   "id": "8e6260fcda6926a3",
   "outputs": [
    {
     "name": "stdout",
     "output_type": "stream",
     "text": [
      "[[1 2 3]\n",
      " [4 5 6]]\n",
      "arr的维度: 2\n"
     ]
    }
   ],
   "execution_count": 14
  },
  {
   "metadata": {},
   "cell_type": "markdown",
   "source": "### 同质性",
   "id": "9fa8ff68a0fd86d"
  },
  {
   "metadata": {
    "ExecuteTime": {
     "end_time": "2025-08-17T08:48:29.002451Z",
     "start_time": "2025-08-17T08:48:28.998357Z"
    }
   },
   "cell_type": "code",
   "source": [
    "arr = np.array([1,2,'3']) # 不同的数据类型会被强制转换为相同的数据类型\n",
    "print(arr)"
   ],
   "id": "b0dc7f3734d738a8",
   "outputs": [
    {
     "name": "stdout",
     "output_type": "stream",
     "text": [
      "['1' '2' '3']\n"
     ]
    }
   ],
   "execution_count": 16
  },
  {
   "metadata": {
    "ExecuteTime": {
     "end_time": "2025-08-17T08:48:38.512322Z",
     "start_time": "2025-08-17T08:48:38.509534Z"
    }
   },
   "cell_type": "code",
   "source": [
    "arr = np.array([1,2.5]) # 不同的数据类型会被强制转换为相同的数据类型\n",
    "print(arr)"
   ],
   "id": "a5ce14439f146e57",
   "outputs": [
    {
     "name": "stdout",
     "output_type": "stream",
     "text": [
      "[1.  2.5]\n"
     ]
    }
   ],
   "execution_count": 17
  },
  {
   "metadata": {},
   "cell_type": "markdown",
   "source": "## 2.ndarray的属性",
   "id": "8deee0edab0c6c63"
  },
  {
   "metadata": {
    "ExecuteTime": {
     "end_time": "2025-08-17T08:56:44.107029Z",
     "start_time": "2025-08-17T08:56:44.104576Z"
    }
   },
   "cell_type": "code",
   "source": [
    "arr = np.array(1)\n",
    "print('数组的形状:',arr.shape)\n",
    "print('数组的维度',arr.ndim)\n",
    "print('元素的个数',arr.size)\n",
    "print('元素的数据类型',arr.dtype)"
   ],
   "id": "ee43f7b15a0bf35d",
   "outputs": [
    {
     "name": "stdout",
     "output_type": "stream",
     "text": [
      "数组的形状: ()\n",
      "数组的维度 0\n",
      "元素的个数 1\n",
      "元素的数据类型 int64\n"
     ]
    }
   ],
   "execution_count": 26
  },
  {
   "metadata": {
    "ExecuteTime": {
     "end_time": "2025-08-17T08:58:28.727939Z",
     "start_time": "2025-08-17T08:58:28.725291Z"
    }
   },
   "cell_type": "code",
   "source": [
    "arr = np.array([1,2,'3'])\n",
    "print('数组的形状:',arr.shape)\n",
    "print('数组的维度',arr.ndim)\n",
    "print('元素的个数',arr.size)\n",
    "print('元素的数据类型',arr.dtype)"
   ],
   "id": "90c3565633952603",
   "outputs": [
    {
     "name": "stdout",
     "output_type": "stream",
     "text": [
      "数组的形状: (3,)\n",
      "数组的维度 1\n",
      "元素的个数 3\n",
      "元素的数据类型 <U21\n",
      "转置 ['1' '2' '3']\n"
     ]
    }
   ],
   "execution_count": 28
  },
  {
   "metadata": {
    "ExecuteTime": {
     "end_time": "2025-08-17T08:58:39.706720Z",
     "start_time": "2025-08-17T08:58:39.704316Z"
    }
   },
   "cell_type": "code",
   "source": [
    "arr = np.array([[1,2,3],\n",
    "               [4,5,6]])\n",
    "print('数组的形状:',arr.shape)\n",
    "print('数组的维度',arr.ndim)\n",
    "print('元素的个数',arr.size)\n",
    "print('转置',arr.T)"
   ],
   "id": "baeb7d7a6ccee051",
   "outputs": [
    {
     "name": "stdout",
     "output_type": "stream",
     "text": [
      "数组的形状: (2, 3)\n",
      "数组的维度 2\n",
      "元素的个数 6\n",
      "转置 [[1 4]\n",
      " [2 5]\n",
      " [3 6]]\n"
     ]
    }
   ],
   "execution_count": 29
  },
  {
   "metadata": {},
   "cell_type": "markdown",
   "source": "## 3.ndarray的创建",
   "id": "36dcabed476f3a49"
  },
  {
   "metadata": {
    "ExecuteTime": {
     "end_time": "2025-08-17T09:12:31.380755Z",
     "start_time": "2025-08-17T09:12:31.376861Z"
    }
   },
   "cell_type": "code",
   "source": [
    "# 基础创建\n",
    "list1 = [4,5,6]\n",
    "arr = np.array(list1,dtype=np.float64)\n",
    "print(arr)\n",
    "print(arr.ndim)"
   ],
   "id": "accbae93fc8a8200",
   "outputs": [
    {
     "name": "stdout",
     "output_type": "stream",
     "text": [
      "[4. 5. 6.]\n",
      "1\n"
     ]
    }
   ],
   "execution_count": 33
  },
  {
   "metadata": {
    "ExecuteTime": {
     "end_time": "2025-08-17T09:13:24.635059Z",
     "start_time": "2025-08-17T09:13:24.632958Z"
    }
   },
   "cell_type": "code",
   "source": [
    "arr1 = np.copy(arr) # 复制一份\n",
    "print(arr1)"
   ],
   "id": "58bf5d830f0f3ea5",
   "outputs": [
    {
     "name": "stdout",
     "output_type": "stream",
     "text": [
      "[4. 5. 6.]\n"
     ]
    }
   ],
   "execution_count": 34
  },
  {
   "metadata": {
    "ExecuteTime": {
     "end_time": "2025-08-17T09:16:23.931099Z",
     "start_time": "2025-08-17T09:16:23.928746Z"
    }
   },
   "cell_type": "code",
   "source": [
    "# 预定义形状\n",
    "# 全0 全1 未初始化 固定值\n",
    "# 全0\n",
    "arr = np.zeros((2,3),dtype=np.int64)\n",
    "print(arr)"
   ],
   "id": "b4e22a5aa2ae1c8",
   "outputs": [
    {
     "name": "stdout",
     "output_type": "stream",
     "text": [
      "[[0 0 0]\n",
      " [0 0 0]]\n"
     ]
    }
   ],
   "execution_count": 36
  },
  {
   "metadata": {
    "ExecuteTime": {
     "end_time": "2025-08-17T09:21:43.805466Z",
     "start_time": "2025-08-17T09:21:43.803052Z"
    }
   },
   "cell_type": "code",
   "source": [
    "arr = np.zeros((2,),dtype=np.int64)\n",
    "print(arr)"
   ],
   "id": "6e67a48789712c0c",
   "outputs": [
    {
     "name": "stdout",
     "output_type": "stream",
     "text": [
      "[0 0]\n"
     ]
    }
   ],
   "execution_count": 38
  },
  {
   "metadata": {
    "ExecuteTime": {
     "end_time": "2025-08-17T09:22:54.282937Z",
     "start_time": "2025-08-17T09:22:54.280721Z"
    }
   },
   "cell_type": "code",
   "source": [
    "# 全1\n",
    "arr = np.ones((2,3),dtype=np.int64)\n",
    "print(arr)"
   ],
   "id": "3198369a84212087",
   "outputs": [
    {
     "name": "stdout",
     "output_type": "stream",
     "text": [
      "[[1 1 1]\n",
      " [1 1 1]]\n"
     ]
    }
   ],
   "execution_count": 39
  },
  {
   "metadata": {
    "ExecuteTime": {
     "end_time": "2025-08-17T09:23:50.530248Z",
     "start_time": "2025-08-17T09:23:50.528235Z"
    }
   },
   "cell_type": "code",
   "source": [
    "# 未初始化\n",
    "arr = np.empty((2,3))\n",
    "print(arr)"
   ],
   "id": "ce6d9e7ec330aabc",
   "outputs": [
    {
     "name": "stdout",
     "output_type": "stream",
     "text": [
      "[[0. 0. 0.]\n",
      " [0. 0. 0.]]\n"
     ]
    }
   ],
   "execution_count": 41
  },
  {
   "metadata": {
    "ExecuteTime": {
     "end_time": "2025-08-17T09:24:48.881557Z",
     "start_time": "2025-08-17T09:24:48.878041Z"
    }
   },
   "cell_type": "code",
   "source": [
    "# 填其他元素\n",
    "arr = np.full((3,4),2,dtype=np.int64)\n",
    "print(arr)"
   ],
   "id": "50e3a341c828fad",
   "outputs": [
    {
     "name": "stdout",
     "output_type": "stream",
     "text": [
      "[[2 2 2 2]\n",
      " [2 2 2 2]\n",
      " [2 2 2 2]]\n"
     ]
    }
   ],
   "execution_count": 43
  },
  {
   "metadata": {
    "ExecuteTime": {
     "end_time": "2025-08-17T09:25:33.607463Z",
     "start_time": "2025-08-17T09:25:33.603665Z"
    }
   },
   "cell_type": "code",
   "source": [
    "arr1 = np.zeros_like(arr) #形状一样 xxx_like\n",
    "print(arr1)"
   ],
   "id": "4e71fa42d080715c",
   "outputs": [
    {
     "name": "stdout",
     "output_type": "stream",
     "text": [
      "[[0 0 0 0]\n",
      " [0 0 0 0]\n",
      " [0 0 0 0]]\n"
     ]
    }
   ],
   "execution_count": 44
  },
  {
   "metadata": {},
   "cell_type": "code",
   "outputs": [],
   "execution_count": null,
   "source": "",
   "id": "604c3e55368c2859"
  }
 ],
 "metadata": {
  "kernelspec": {
   "display_name": "Python 3",
   "language": "python",
   "name": "python3"
  },
  "language_info": {
   "codemirror_mode": {
    "name": "ipython",
    "version": 2
   },
   "file_extension": ".py",
   "mimetype": "text/x-python",
   "name": "python",
   "nbconvert_exporter": "python",
   "pygments_lexer": "ipython2",
   "version": "2.7.6"
  }
 },
 "nbformat": 4,
 "nbformat_minor": 5
}
