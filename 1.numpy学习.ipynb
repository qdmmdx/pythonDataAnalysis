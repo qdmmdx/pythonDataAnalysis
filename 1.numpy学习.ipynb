{
 "cells": [
  {
   "metadata": {
    "collapsed": true
   },
   "cell_type": "markdown",
   "source": [
    "# 一、ndarray\n",
    "## 1.ndarray特性\n",
    "### 多维性"
   ],
   "id": "27fcff87389d1ffe"
  },
  {
   "metadata": {
    "ExecuteTime": {
     "end_time": "2025-08-17T08:39:38.882987Z",
     "start_time": "2025-08-17T08:39:38.762947Z"
    }
   },
   "cell_type": "code",
   "source": [
    "import numpy as np\n",
    "from anaconda_project.prepare import prepare_execute_without_interaction\n",
    "from astropy.utils.metadata.utils import dtype"
   ],
   "id": "9afa2489b5ed3157",
   "outputs": [],
   "execution_count": 1
  },
  {
   "metadata": {
    "ExecuteTime": {
     "end_time": "2025-08-17T08:44:20.701381Z",
     "start_time": "2025-08-17T08:44:20.697826Z"
    }
   },
   "cell_type": "code",
   "source": [
    "arr = np.array(5) # 创建0维ndarray\n",
    "print(arr)\n",
    "print('arr的维度:',arr.ndim) # 打印纬度"
   ],
   "id": "fbf2e4527c63e1c3",
   "outputs": [
    {
     "name": "stdout",
     "output_type": "stream",
     "text": [
      "5\n",
      "arr的维度: 0\n"
     ]
    }
   ],
   "execution_count": 9
  },
  {
   "metadata": {
    "ExecuteTime": {
     "end_time": "2025-08-17T08:44:21.336539Z",
     "start_time": "2025-08-17T08:44:21.332866Z"
    }
   },
   "cell_type": "code",
   "source": [
    "arr = np.array([1,2,3]) # 创建1维ndarray\n",
    "print(arr)\n",
    "print('arr的维度:',arr.ndim) # 打印纬度"
   ],
   "id": "c434c2a53cf51e41",
   "outputs": [
    {
     "name": "stdout",
     "output_type": "stream",
     "text": [
      "[1 2 3]\n",
      "arr的维度: 1\n"
     ]
    }
   ],
   "execution_count": 10
  },
  {
   "metadata": {
    "ExecuteTime": {
     "end_time": "2025-08-17T08:45:00.396951Z",
     "start_time": "2025-08-17T08:45:00.394338Z"
    }
   },
   "cell_type": "code",
   "source": [
    "arr = np.array([\n",
    "    [1,2,3],\n",
    "    [4,5,6]\n",
    "]) # 创建2维ndarray\n",
    "print(arr)\n",
    "print('arr的维度:',arr.ndim) # 打印纬度"
   ],
   "id": "8e6260fcda6926a3",
   "outputs": [
    {
     "name": "stdout",
     "output_type": "stream",
     "text": [
      "[[1 2 3]\n",
      " [4 5 6]]\n",
      "arr的维度: 2\n"
     ]
    }
   ],
   "execution_count": 14
  },
  {
   "metadata": {},
   "cell_type": "markdown",
   "source": "### 同质性",
   "id": "9fa8ff68a0fd86d"
  },
  {
   "metadata": {
    "ExecuteTime": {
     "end_time": "2025-08-17T08:48:29.002451Z",
     "start_time": "2025-08-17T08:48:28.998357Z"
    }
   },
   "cell_type": "code",
   "source": [
    "arr = np.array([1,2,'3']) # 不同的数据类型会被强制转换为相同的数据类型\n",
    "print(arr)"
   ],
   "id": "b0dc7f3734d738a8",
   "outputs": [
    {
     "name": "stdout",
     "output_type": "stream",
     "text": [
      "['1' '2' '3']\n"
     ]
    }
   ],
   "execution_count": 16
  },
  {
   "metadata": {
    "ExecuteTime": {
     "end_time": "2025-08-17T08:48:38.512322Z",
     "start_time": "2025-08-17T08:48:38.509534Z"
    }
   },
   "cell_type": "code",
   "source": [
    "arr = np.array([1,2.5]) # 不同的数据类型会被强制转换为相同的数据类型\n",
    "print(arr)"
   ],
   "id": "a5ce14439f146e57",
   "outputs": [
    {
     "name": "stdout",
     "output_type": "stream",
     "text": [
      "[1.  2.5]\n"
     ]
    }
   ],
   "execution_count": 17
  },
  {
   "metadata": {},
   "cell_type": "markdown",
   "source": "## 2.ndarray的属性",
   "id": "8deee0edab0c6c63"
  },
  {
   "metadata": {
    "ExecuteTime": {
     "end_time": "2025-08-17T08:56:44.107029Z",
     "start_time": "2025-08-17T08:56:44.104576Z"
    }
   },
   "cell_type": "code",
   "source": [
    "arr = np.array(1)\n",
    "print('数组的形状:',arr.shape)\n",
    "print('数组的维度',arr.ndim)\n",
    "print('元素的个数',arr.size)\n",
    "print('元素的数据类型',arr.dtype)"
   ],
   "id": "ee43f7b15a0bf35d",
   "outputs": [
    {
     "name": "stdout",
     "output_type": "stream",
     "text": [
      "数组的形状: ()\n",
      "数组的维度 0\n",
      "元素的个数 1\n",
      "元素的数据类型 int64\n"
     ]
    }
   ],
   "execution_count": 26
  },
  {
   "metadata": {
    "ExecuteTime": {
     "end_time": "2025-08-17T08:58:28.727939Z",
     "start_time": "2025-08-17T08:58:28.725291Z"
    }
   },
   "cell_type": "code",
   "source": [
    "arr = np.array([1,2,'3'])\n",
    "print('数组的形状:',arr.shape)\n",
    "print('数组的维度',arr.ndim)\n",
    "print('元素的个数',arr.size)\n",
    "print('元素的数据类型',arr.dtype)"
   ],
   "id": "90c3565633952603",
   "outputs": [
    {
     "name": "stdout",
     "output_type": "stream",
     "text": [
      "数组的形状: (3,)\n",
      "数组的维度 1\n",
      "元素的个数 3\n",
      "元素的数据类型 <U21\n",
      "转置 ['1' '2' '3']\n"
     ]
    }
   ],
   "execution_count": 28
  },
  {
   "metadata": {
    "ExecuteTime": {
     "end_time": "2025-08-17T08:58:39.706720Z",
     "start_time": "2025-08-17T08:58:39.704316Z"
    }
   },
   "cell_type": "code",
   "source": [
    "arr = np.array([[1,2,3],\n",
    "               [4,5,6]])\n",
    "print('数组的形状:',arr.shape)\n",
    "print('数组的维度',arr.ndim)\n",
    "print('元素的个数',arr.size)\n",
    "print('转置',arr.T)"
   ],
   "id": "baeb7d7a6ccee051",
   "outputs": [
    {
     "name": "stdout",
     "output_type": "stream",
     "text": [
      "数组的形状: (2, 3)\n",
      "数组的维度 2\n",
      "元素的个数 6\n",
      "转置 [[1 4]\n",
      " [2 5]\n",
      " [3 6]]\n"
     ]
    }
   ],
   "execution_count": 29
  },
  {
   "metadata": {},
   "cell_type": "markdown",
   "source": "## 3.ndarray的创建",
   "id": "36dcabed476f3a49"
  },
  {
   "metadata": {
    "ExecuteTime": {
     "end_time": "2025-08-17T09:12:31.380755Z",
     "start_time": "2025-08-17T09:12:31.376861Z"
    }
   },
   "cell_type": "code",
   "source": [
    "# 基础创建\n",
    "list1 = [4,5,6]\n",
    "arr = np.array(list1,dtype=np.float64)\n",
    "print(arr)\n",
    "print(arr.ndim)"
   ],
   "id": "accbae93fc8a8200",
   "outputs": [
    {
     "name": "stdout",
     "output_type": "stream",
     "text": [
      "[4. 5. 6.]\n",
      "1\n"
     ]
    }
   ],
   "execution_count": 33
  },
  {
   "metadata": {
    "ExecuteTime": {
     "end_time": "2025-08-17T09:13:24.635059Z",
     "start_time": "2025-08-17T09:13:24.632958Z"
    }
   },
   "cell_type": "code",
   "source": [
    "arr1 = np.copy(arr) # 复制一份\n",
    "print(arr1)"
   ],
   "id": "58bf5d830f0f3ea5",
   "outputs": [
    {
     "name": "stdout",
     "output_type": "stream",
     "text": [
      "[4. 5. 6.]\n"
     ]
    }
   ],
   "execution_count": 34
  },
  {
   "metadata": {
    "ExecuteTime": {
     "end_time": "2025-08-17T09:16:23.931099Z",
     "start_time": "2025-08-17T09:16:23.928746Z"
    }
   },
   "cell_type": "code",
   "source": [
    "# 预定义形状\n",
    "# 全0 全1 未初始化 固定值\n",
    "# 全0\n",
    "arr = np.zeros((2,3),dtype=np.int64)\n",
    "print(arr)"
   ],
   "id": "b4e22a5aa2ae1c8",
   "outputs": [
    {
     "name": "stdout",
     "output_type": "stream",
     "text": [
      "[[0 0 0]\n",
      " [0 0 0]]\n"
     ]
    }
   ],
   "execution_count": 36
  },
  {
   "metadata": {
    "ExecuteTime": {
     "end_time": "2025-08-18T14:31:30.956492Z",
     "start_time": "2025-08-18T14:31:30.952577Z"
    }
   },
   "cell_type": "code",
   "source": [
    "arr = np.zeros((2,),dtype=np.int64)\n",
    "print(arr)"
   ],
   "id": "6e67a48789712c0c",
   "outputs": [
    {
     "name": "stdout",
     "output_type": "stream",
     "text": [
      "[0 0]\n"
     ]
    }
   ],
   "execution_count": 66
  },
  {
   "metadata": {
    "ExecuteTime": {
     "end_time": "2025-08-17T09:22:54.282937Z",
     "start_time": "2025-08-17T09:22:54.280721Z"
    }
   },
   "cell_type": "code",
   "source": [
    "# 全1\n",
    "arr = np.ones((2,3),dtype=np.int64)\n",
    "print(arr)"
   ],
   "id": "3198369a84212087",
   "outputs": [
    {
     "name": "stdout",
     "output_type": "stream",
     "text": [
      "[[1 1 1]\n",
      " [1 1 1]]\n"
     ]
    }
   ],
   "execution_count": 39
  },
  {
   "metadata": {
    "ExecuteTime": {
     "end_time": "2025-08-17T09:23:50.530248Z",
     "start_time": "2025-08-17T09:23:50.528235Z"
    }
   },
   "cell_type": "code",
   "source": [
    "# 未初始化\n",
    "arr = np.empty((2,3))\n",
    "print(arr)"
   ],
   "id": "ce6d9e7ec330aabc",
   "outputs": [
    {
     "name": "stdout",
     "output_type": "stream",
     "text": [
      "[[0. 0. 0.]\n",
      " [0. 0. 0.]]\n"
     ]
    }
   ],
   "execution_count": 41
  },
  {
   "metadata": {
    "ExecuteTime": {
     "end_time": "2025-08-17T09:24:48.881557Z",
     "start_time": "2025-08-17T09:24:48.878041Z"
    }
   },
   "cell_type": "code",
   "source": [
    "# 填其他元素\n",
    "arr = np.full((3,4),2,dtype=np.int64)\n",
    "print(arr)"
   ],
   "id": "50e3a341c828fad",
   "outputs": [
    {
     "name": "stdout",
     "output_type": "stream",
     "text": [
      "[[2 2 2 2]\n",
      " [2 2 2 2]\n",
      " [2 2 2 2]]\n"
     ]
    }
   ],
   "execution_count": 43
  },
  {
   "metadata": {
    "ExecuteTime": {
     "end_time": "2025-08-17T09:25:33.607463Z",
     "start_time": "2025-08-17T09:25:33.603665Z"
    }
   },
   "cell_type": "code",
   "source": [
    "arr1 = np.zeros_like(arr) #形状一样 xxx_like\n",
    "print(arr1)"
   ],
   "id": "4e71fa42d080715c",
   "outputs": [
    {
     "name": "stdout",
     "output_type": "stream",
     "text": [
      "[[0 0 0 0]\n",
      " [0 0 0 0]\n",
      " [0 0 0 0]]\n"
     ]
    }
   ],
   "execution_count": 44
  },
  {
   "metadata": {
    "ExecuteTime": {
     "end_time": "2025-08-18T14:09:00.423111Z",
     "start_time": "2025-08-18T14:09:00.420964Z"
    }
   },
   "cell_type": "code",
   "source": [
    "# 等差数列\n",
    "arr = np.arange(1,10,1) # 步长为1,不包含最后一个值\n",
    "print(arr)\n",
    "arr = np.arange(1,10,2)\n",
    "print(arr)"
   ],
   "id": "604c3e55368c2859",
   "outputs": [
    {
     "name": "stdout",
     "output_type": "stream",
     "text": [
      "[1 2 3 4 5 6 7 8 9]\n",
      "[1 3 5 7 9]\n"
     ]
    }
   ],
   "execution_count": 48
  },
  {
   "metadata": {
    "ExecuteTime": {
     "end_time": "2025-08-18T14:14:36.403737Z",
     "start_time": "2025-08-18T14:14:36.398910Z"
    }
   },
   "cell_type": "code",
   "source": [
    "# 等间隔数列\n",
    "arr = np.linspace(1,10,10,dtype=int) # 1-10取10份\n",
    "print(arr)\n",
    "arr = np.linspace(1,10,3) # 1-10 取3份\n",
    "print(arr)"
   ],
   "id": "fdf2344993e3ed5f",
   "outputs": [
    {
     "name": "stdout",
     "output_type": "stream",
     "text": [
      "[ 1  2  3  4  5  6  7  8  9 10]\n",
      "[ 1.   5.5 10. ]\n"
     ]
    }
   ],
   "execution_count": 54
  },
  {
   "metadata": {
    "ExecuteTime": {
     "end_time": "2025-08-18T14:16:16.243622Z",
     "start_time": "2025-08-18T14:16:16.241082Z"
    }
   },
   "cell_type": "code",
   "source": [
    "# 指数间隔数列\n",
    "arr = np.logspace(0,4,2,base=2)\n",
    "print(arr)"
   ],
   "id": "31f5a29a115a4ace",
   "outputs": [
    {
     "name": "stdout",
     "output_type": "stream",
     "text": [
      "[ 1. 16.]\n"
     ]
    }
   ],
   "execution_count": 56
  },
  {
   "metadata": {
    "ExecuteTime": {
     "end_time": "2025-08-18T14:25:41.550743Z",
     "start_time": "2025-08-18T14:25:41.548329Z"
    }
   },
   "cell_type": "code",
   "source": [
    "# 特殊矩阵\n",
    "# 单位矩阵\n",
    "arr = np.eye(3,dtype=int)\n",
    "print(arr)\n"
   ],
   "id": "5782df3fdcef4fc2",
   "outputs": [
    {
     "name": "stdout",
     "output_type": "stream",
     "text": [
      "[[1 0 0]\n",
      " [0 1 0]\n",
      " [0 0 1]]\n"
     ]
    }
   ],
   "execution_count": 58
  },
  {
   "metadata": {
    "ExecuteTime": {
     "end_time": "2025-08-18T14:28:52.322725Z",
     "start_time": "2025-08-18T14:28:52.320416Z"
    }
   },
   "cell_type": "code",
   "source": [
    "# 对角矩阵\n",
    "arr = np.diag([1,2,3,4,5])\n",
    "print(arr)\n",
    "arr = np.diag(np.ones(5,dtype=int))\n",
    "print(arr)"
   ],
   "id": "b6236f776a413967",
   "outputs": [
    {
     "name": "stdout",
     "output_type": "stream",
     "text": [
      "[[1 0 0 0 0]\n",
      " [0 2 0 0 0]\n",
      " [0 0 3 0 0]\n",
      " [0 0 0 4 0]\n",
      " [0 0 0 0 5]]\n",
      "[[1 0 0 0 0]\n",
      " [0 1 0 0 0]\n",
      " [0 0 1 0 0]\n",
      " [0 0 0 1 0]\n",
      " [0 0 0 0 1]]\n"
     ]
    }
   ],
   "execution_count": 63
  },
  {
   "metadata": {
    "ExecuteTime": {
     "end_time": "2025-08-18T14:31:34.257917Z",
     "start_time": "2025-08-18T14:31:34.254015Z"
    }
   },
   "cell_type": "code",
   "source": [
    "# 随机数组\n",
    "# 生成0—1之间的随机浮点数\n",
    "arr = np.random.rand(2,3)\n",
    "print(arr)"
   ],
   "id": "3375f005591ab33a",
   "outputs": [
    {
     "name": "stdout",
     "output_type": "stream",
     "text": [
      "[[0.31160493 0.61119531 0.05205081]\n",
      " [0.83092569 0.01874297 0.12730087]]\n"
     ]
    }
   ],
   "execution_count": 67
  },
  {
   "metadata": {
    "ExecuteTime": {
     "end_time": "2025-08-18T14:32:59.338641Z",
     "start_time": "2025-08-18T14:32:59.336Z"
    }
   },
   "cell_type": "code",
   "source": [
    "# 生成指定范围区间的随机浮点数\n",
    "arr = np.random.uniform(3,6,size=(2,3))\n",
    "print(arr)"
   ],
   "id": "adb0dac74cc9f3cb",
   "outputs": [
    {
     "name": "stdout",
     "output_type": "stream",
     "text": [
      "[[3.52725797 3.6138191  3.29074977]\n",
      " [5.73188087 3.27204018 3.41456012]]\n"
     ]
    }
   ],
   "execution_count": 69
  },
  {
   "metadata": {
    "ExecuteTime": {
     "end_time": "2025-08-18T14:34:00.674655Z",
     "start_time": "2025-08-18T14:34:00.670790Z"
    }
   },
   "cell_type": "code",
   "source": [
    "# 生成指定范围区间的随机整数\n",
    "arr = np.random.randint(3,30,size=(2,3))\n",
    "print(arr)"
   ],
   "id": "db0f3d1bc6764d5",
   "outputs": [
    {
     "name": "stdout",
     "output_type": "stream",
     "text": [
      "[[ 4 23  6]\n",
      " [27  6 22]]\n"
     ]
    }
   ],
   "execution_count": 71
  },
  {
   "metadata": {
    "ExecuteTime": {
     "end_time": "2025-08-18T14:35:04.169305Z",
     "start_time": "2025-08-18T14:35:04.156094Z"
    }
   },
   "cell_type": "code",
   "source": [
    "# 生成正态分布的随机数列\n",
    "arr = np.random.randn(2,3)\n",
    "print(arr)"
   ],
   "id": "40f0cdbd51f5895e",
   "outputs": [
    {
     "name": "stdout",
     "output_type": "stream",
     "text": [
      "[[-0.67295366 -0.47877707 -1.95679984]\n",
      " [ 1.16467705  0.83270651  0.44563291]]\n"
     ]
    }
   ],
   "execution_count": 72
  },
  {
   "metadata": {
    "ExecuteTime": {
     "end_time": "2025-08-18T14:38:29.741218Z",
     "start_time": "2025-08-18T14:38:29.736901Z"
    }
   },
   "cell_type": "code",
   "source": [
    "# 设置随机种子\n",
    "np.random.seed(20)\n",
    "arr = np.random.randint(1,10,size=(2,3))\n",
    "print(arr)"
   ],
   "id": "bd33a226c5985613",
   "outputs": [
    {
     "name": "stdout",
     "output_type": "stream",
     "text": [
      "[[4 5 7]\n",
      " [8 3 1]]\n"
     ]
    }
   ],
   "execution_count": 73
  },
  {
   "metadata": {},
   "cell_type": "code",
   "outputs": [],
   "execution_count": null,
   "source": "",
   "id": "642bc4e210467d9c"
  },
  {
   "metadata": {},
   "cell_type": "markdown",
   "source": [
    "## 4.ndarray的数据类型\n",
    "\n",
    "bool int float complex(复数)"
   ],
   "id": "aef35b5e3e7deca3"
  },
  {
   "metadata": {
    "ExecuteTime": {
     "end_time": "2025-08-18T14:48:11.146906Z",
     "start_time": "2025-08-18T14:48:11.142615Z"
    }
   },
   "cell_type": "code",
   "source": [
    "arr = np.array([1,0,1],dtype='bool')\n",
    "print(arr)\n",
    "# arr = np.array([1,1000,1],dtype=np.int8)\n",
    "# print(arr)"
   ],
   "id": "7c08b9bc22d54652",
   "outputs": [
    {
     "name": "stdout",
     "output_type": "stream",
     "text": [
      "[ True False  True]\n"
     ]
    }
   ],
   "execution_count": 77
  },
  {
   "metadata": {},
   "cell_type": "markdown",
   "source": "## 5.ndarray索引与切片",
   "id": "9d3a6a487aee5460"
  },
  {
   "metadata": {
    "ExecuteTime": {
     "end_time": "2025-08-19T13:41:58.405756Z",
     "start_time": "2025-08-19T13:41:58.400619Z"
    }
   },
   "cell_type": "code",
   "source": [
    "# 一维数组\n",
    "arr = np.random.randint(1,100,20)\n",
    "print(arr)\n",
    "print(arr[0])\n",
    "print(arr[:]) # 获取全部数据\n",
    "print(arr[0:2]) # 获取0-1个元素\n",
    "print(arr[(arr>10) & (arr<20)]) # 布尔索引\n",
    "print(arr[slice(2,15,3)]) # slice(start,end,step)\n"
   ],
   "id": "f9107088b1facfa1",
   "outputs": [
    {
     "name": "stdout",
     "output_type": "stream",
     "text": [
      "[25 31 65 34  5 94 37 78 28 71 35 98 33  6 94 40 17 37 72 60]\n",
      "25\n",
      "[25 31 65 34  5 94 37 78 28 71 35 98 33  6 94 40 17 37 72 60]\n",
      "[25 31]\n",
      "[17]\n",
      "[65 94 28 98 94]\n"
     ]
    }
   ],
   "execution_count": 91
  },
  {
   "metadata": {
    "ExecuteTime": {
     "end_time": "2025-08-19T13:49:25.096360Z",
     "start_time": "2025-08-19T13:49:25.091231Z"
    }
   },
   "cell_type": "code",
   "source": [
    "# 二维数组\n",
    "arr = np.random.randint(1,100,size=(4,8))\n",
    "print(arr)\n",
    "print(arr[1,2]) # 单索引\n",
    "print(arr[:,2]) # 指定列\n",
    "print(arr[1,:]) # 指定行\n",
    "print(arr[2,2:5]) # 指定某行/列部分元素\n",
    "print(arr[arr>50]) # 筛选部分元素\n",
    "print(arr[1:][arr[1:]>50]) # 筛选指定某行/列部分元素"
   ],
   "id": "59b066b62fe48517",
   "outputs": [
    {
     "name": "stdout",
     "output_type": "stream",
     "text": [
      "[[61 80 77 30 52  9 68 89]\n",
      " [66 96 49 82  1 32 62 95]\n",
      " [48 44 61 43 78 61 82 72]\n",
      " [98 28 18 17 86 43 46 92]]\n",
      "49\n",
      "[77 49 61 18]\n",
      "[66 96 49 82  1 32 62 95]\n",
      "[61 43 78]\n",
      "[61 80 77 52 68 89 66 96 82 62 95 61 78 61 82 72 98 86 92]\n",
      "[66 96 82 62 95 61 78 61 82 72 98 86 92]\n"
     ]
    }
   ],
   "execution_count": 104
  },
  {
   "metadata": {},
   "cell_type": "markdown",
   "source": "## 6.ndarray的运算",
   "id": "79b3292535ddef63"
  },
  {
   "metadata": {
    "ExecuteTime": {
     "end_time": "2025-08-19T13:55:56.365149Z",
     "start_time": "2025-08-19T13:55:56.360436Z"
    }
   },
   "cell_type": "code",
   "source": [
    "# 算数运算\n",
    "a = np.array([1,2,3])\n",
    "b = np.array([4,5,6])\n",
    "print(a+b)\n",
    "print(a-b)\n",
    "print(a*b)\n",
    "print(a/b)\n",
    "print(a**2)"
   ],
   "id": "2cbf3345073d85f3",
   "outputs": [
    {
     "name": "stdout",
     "output_type": "stream",
     "text": [
      "[5 7 9]\n",
      "[-3 -3 -3]\n",
      "[ 4 10 18]\n",
      "[0.25 0.4  0.5 ]\n",
      "[1 4 9]\n"
     ]
    }
   ],
   "execution_count": 111
  },
  {
   "metadata": {
    "ExecuteTime": {
     "end_time": "2025-08-19T13:54:00.996111Z",
     "start_time": "2025-08-19T13:54:00.993660Z"
    }
   },
   "cell_type": "code",
   "source": [
    "# 普通列表\n",
    "c = [1,2,3]\n",
    "d = [4,5,6]\n",
    "print(c+d) # 此处为列表拼接"
   ],
   "id": "ee818d31e577eca5",
   "outputs": [
    {
     "name": "stdout",
     "output_type": "stream",
     "text": [
      "[1, 2, 3, 4, 5, 6]\n"
     ]
    }
   ],
   "execution_count": 110
  },
  {
   "metadata": {
    "ExecuteTime": {
     "end_time": "2025-08-19T13:57:07.141734Z",
     "start_time": "2025-08-19T13:57:07.139446Z"
    }
   },
   "cell_type": "code",
   "source": [
    "# 二维\n",
    "a = np.array([[1,2,3],[4,5,6],[7,8,9]])\n",
    "b = np.array([[7,8,9],[1,2,3],[4,5,6]])\n",
    "print(a+b)\n",
    "print(a-b)\n",
    "print(a*b)\n",
    "print(a/b)\n",
    "print(a**2)"
   ],
   "id": "4e9ddc481bc0f06b",
   "outputs": [
    {
     "name": "stdout",
     "output_type": "stream",
     "text": [
      "[[ 1  4  9]\n",
      " [16 25 36]\n",
      " [49 64 81]]\n"
     ]
    }
   ],
   "execution_count": 113
  },
  {
   "metadata": {
    "ExecuteTime": {
     "end_time": "2025-08-19T13:58:29.188560Z",
     "start_time": "2025-08-19T13:58:29.184839Z"
    }
   },
   "cell_type": "code",
   "source": [
    "# 数组+标量\n",
    "a = np.array([[1,2,3],[4,5,6],[7,8,9]])\n",
    "print(a+3)"
   ],
   "id": "fab794c1580d20fb",
   "outputs": [
    {
     "name": "stdout",
     "output_type": "stream",
     "text": [
      "[[ 4  5  6]\n",
      " [ 7  8  9]\n",
      " [10 11 12]]\n"
     ]
    }
   ],
   "execution_count": 115
  },
  {
   "metadata": {
    "ExecuteTime": {
     "end_time": "2025-08-19T14:00:20.051205Z",
     "start_time": "2025-08-19T14:00:20.049109Z"
    }
   },
   "cell_type": "code",
   "source": [
    "# 广播机制\n",
    "a = np.array([1,2,3]) # 1*3\n",
    "b = np.array([[9],[3],[4]]) # 3*1\n",
    "print(a+b)\n",
    "'''\n",
    "123    999\n",
    "123  + 333\n",
    "123    444\n",
    "\n",
    "'''"
   ],
   "id": "47e5f475a6069b5a",
   "outputs": [
    {
     "name": "stdout",
     "output_type": "stream",
     "text": [
      "[[10 11 12]\n",
      " [ 4  5  6]\n",
      " [ 5  6  7]]\n"
     ]
    }
   ],
   "execution_count": 117
  },
  {
   "metadata": {
    "ExecuteTime": {
     "end_time": "2025-08-19T14:10:06.591174Z",
     "start_time": "2025-08-19T14:10:06.586486Z"
    }
   },
   "cell_type": "code",
   "source": [
    "# 矩阵运算\n",
    "a = np.array([[1,2,3],[4,5,6],[7,8,9]])\n",
    "b = np.array([[7,8,9],[1,2,3],[4,5,6]])\n",
    "print(a*b) # 对应元素相乘\n",
    "print(a@b) # 矩阵乘"
   ],
   "id": "59c674fcc0ad0551",
   "outputs": [
    {
     "name": "stdout",
     "output_type": "stream",
     "text": [
      "[[ 7 16 27]\n",
      " [ 4 10 18]\n",
      " [28 40 54]]\n",
      "[[ 21  27  33]\n",
      " [ 57  72  87]\n",
      " [ 93 117 141]]\n"
     ]
    }
   ],
   "execution_count": 120
  },
  {
   "metadata": {},
   "cell_type": "markdown",
   "source": [
    "# 一、numpy中的常用函数\n",
    "## 1.基本数学函数"
   ],
   "id": "7cfeb73d124ee0eb"
  },
  {
   "metadata": {
    "ExecuteTime": {
     "end_time": "2025-08-19T14:17:13.602126Z",
     "start_time": "2025-08-19T14:17:13.598959Z"
    }
   },
   "cell_type": "code",
   "source": [
    "# 计算平方根\n",
    "print(np.sqrt(9))\n",
    "print(np.sqrt([1,4,9]))\n",
    "arr = np.array([[1,2,3],[4,5,6],[7,8,9]])\n",
    "print(np.sqrt(arr))"
   ],
   "id": "6e6d3029fd74f67e",
   "outputs": [
    {
     "name": "stdout",
     "output_type": "stream",
     "text": [
      "3.0\n",
      "[1. 2. 3.]\n",
      "[[1.         1.41421356 1.73205081]\n",
      " [2.         2.23606798 2.44948974]\n",
      " [2.64575131 2.82842712 3.        ]]\n"
     ]
    }
   ],
   "execution_count": 126
  },
  {
   "metadata": {
    "ExecuteTime": {
     "end_time": "2025-08-19T14:18:54.457615Z",
     "start_time": "2025-08-19T14:18:54.455309Z"
    }
   },
   "cell_type": "code",
   "source": [
    "# 计算指数\n",
    "print(np.exp(1)) # e的1次方"
   ],
   "id": "aea6d696858a2bb5",
   "outputs": [
    {
     "name": "stdout",
     "output_type": "stream",
     "text": [
      "2.718281828459045\n"
     ]
    }
   ],
   "execution_count": 127
  },
  {
   "metadata": {
    "ExecuteTime": {
     "end_time": "2025-08-19T14:20:12.777716Z",
     "start_time": "2025-08-19T14:20:12.775445Z"
    }
   },
   "cell_type": "code",
   "source": [
    "# 计算自然对数 lnx\n",
    "print(np.log(2.71))"
   ],
   "id": "3dd40d21b4357b0d",
   "outputs": [
    {
     "name": "stdout",
     "output_type": "stream",
     "text": [
      "0.9969486348916096\n"
     ]
    }
   ],
   "execution_count": 128
  },
  {
   "metadata": {
    "ExecuteTime": {
     "end_time": "2025-08-19T14:25:50.324585Z",
     "start_time": "2025-08-19T14:25:50.322300Z"
    }
   },
   "cell_type": "code",
   "source": [
    "# 三角函数\n",
    "print(np.sin(np.pi/2))\n",
    "print(np.sin(np.pi))\n",
    "print(np.cos(np.pi))"
   ],
   "id": "a1fa54ecc083ffe2",
   "outputs": [
    {
     "name": "stdout",
     "output_type": "stream",
     "text": [
      "1.0\n",
      "1.2246467991473532e-16\n",
      "-1.0\n"
     ]
    }
   ],
   "execution_count": 136
  },
  {
   "metadata": {
    "ExecuteTime": {
     "end_time": "2025-08-19T14:27:32.551189Z",
     "start_time": "2025-08-19T14:27:32.547161Z"
    }
   },
   "cell_type": "code",
   "source": [
    "# 绝对值\n",
    "arr = np.array([-1,-2,3])\n",
    "print(np.abs(arr))"
   ],
   "id": "62aa67d0dc4d1841",
   "outputs": [
    {
     "name": "stdout",
     "output_type": "stream",
     "text": [
      "[1 2 3]\n",
      "[-1 -1  1]\n"
     ]
    }
   ],
   "execution_count": 137
  },
  {
   "metadata": {
    "ExecuteTime": {
     "end_time": "2025-08-19T14:28:15.431035Z",
     "start_time": "2025-08-19T14:28:15.428234Z"
    }
   },
   "cell_type": "code",
   "source": [
    "# 计算a的b次幂\n",
    "arr = np.array([-1,-2,3])\n",
    "print(np.power(arr,2))"
   ],
   "id": "eab01be4cb7f2a94",
   "outputs": [
    {
     "name": "stdout",
     "output_type": "stream",
     "text": [
      "[1 4 9]\n"
     ]
    }
   ],
   "execution_count": 139
  },
  {
   "metadata": {
    "ExecuteTime": {
     "end_time": "2025-08-19T14:29:50.699184Z",
     "start_time": "2025-08-19T14:29:50.694885Z"
    }
   },
   "cell_type": "code",
   "source": [
    "# 四舍五入\n",
    "print(np.round([1.2,3.7,3.5]))"
   ],
   "id": "97b8577a6de1141b",
   "outputs": [
    {
     "name": "stdout",
     "output_type": "stream",
     "text": [
      "[1. 4. 4.]\n"
     ]
    }
   ],
   "execution_count": 141
  },
  {
   "metadata": {
    "ExecuteTime": {
     "end_time": "2025-08-19T14:30:46.673378Z",
     "start_time": "2025-08-19T14:30:46.670599Z"
    }
   },
   "cell_type": "code",
   "source": [
    "# 向上取整\n",
    "arr = np.array([1.6,25.1,81.7])\n",
    "print(np.ceil(arr))"
   ],
   "id": "cb2b225f26513ec0",
   "outputs": [
    {
     "name": "stdout",
     "output_type": "stream",
     "text": [
      "[ 2. 26. 82.]\n"
     ]
    }
   ],
   "execution_count": 142
  },
  {
   "metadata": {
    "ExecuteTime": {
     "end_time": "2025-08-19T14:31:56.894102Z",
     "start_time": "2025-08-19T14:31:56.891774Z"
    }
   },
   "cell_type": "code",
   "source": [
    "# 检测缺失值\n",
    "np.isnan([1,2,np.nan,3])"
   ],
   "id": "e561736c83a7c9",
   "outputs": [
    {
     "data": {
      "text/plain": [
       "array([False, False,  True, False])"
      ]
     },
     "execution_count": 144,
     "metadata": {},
     "output_type": "execute_result"
    }
   ],
   "execution_count": 144
  },
  {
   "metadata": {},
   "cell_type": "code",
   "outputs": [],
   "execution_count": null,
   "source": "",
   "id": "cf9f56b6db34202a"
  }
 ],
 "metadata": {
  "kernelspec": {
   "display_name": "Python 3",
   "language": "python",
   "name": "python3"
  },
  "language_info": {
   "codemirror_mode": {
    "name": "ipython",
    "version": 2
   },
   "file_extension": ".py",
   "mimetype": "text/x-python",
   "name": "python",
   "nbconvert_exporter": "python",
   "pygments_lexer": "ipython2",
   "version": "2.7.6"
  }
 },
 "nbformat": 4,
 "nbformat_minor": 5
}
